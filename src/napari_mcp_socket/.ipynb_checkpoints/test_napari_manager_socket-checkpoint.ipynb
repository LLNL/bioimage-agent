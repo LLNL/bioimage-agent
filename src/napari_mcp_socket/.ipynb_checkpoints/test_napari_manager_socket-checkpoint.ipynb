{
 "cells": [
  {
   "cell_type": "code",
   "execution_count": 8,
   "id": "b55d9792-5acc-4700-a5a1-a30b01dfe0cd",
   "metadata": {},
   "outputs": [],
   "source": [
    "from __future__ import annotations\n",
    "\n",
    "import json\n",
    "import logging\n",
    "import sys\n",
    "import time\n",
    "from pathlib import Path\n",
    "\n",
    "from napari_manager import NapariManager\n",
    "\n",
    "# verbose console output\n",
    "logging.basicConfig(level=logging.INFO, format=\"%(levelname)s %(message)s\")"
   ]
  },
  {
   "cell_type": "code",
   "execution_count": 9,
   "id": "580b35f2-c366-49c6-9c04-c22b3d46b327",
   "metadata": {},
   "outputs": [],
   "source": [
    "\"\"\"Connect to the socket server and load *dataset*.\"\"\"\n",
    "mgr = NapariManager()                       # host/port from __init__\n",
    "dataset = Path(r\"C:\\Users\\miao1\\OneDrive - LLNL\\Sharing\\multi-channel\\SNAP_IgM_BCR_Cell_1\\tif\\SNAP_IgM_BCR_Cell_1_ch0.tif\").expanduser().resolve()\n"
   ]
  },
  {
   "cell_type": "code",
   "execution_count": 10,
   "id": "4fd5ea1f-cd72-4118-8935-f985162e8398",
   "metadata": {},
   "outputs": [
    {
     "name": "stderr",
     "output_type": "stream",
     "text": [
      "INFO open_file → None\n"
     ]
    }
   ],
   "source": [
    "# 1) load data\n",
    "ok, res = mgr.open_file(dataset)            # open_file helper uses\n",
    "if not ok:                                  # send_command internally\n",
    "    raise RuntimeError(f\"open_file failed: {res}\")\n",
    "logging.info(\"open_file → %s\", res)         # 'Command executed successfully'"
   ]
  },
  {
   "cell_type": "code",
   "execution_count": 11,
   "id": "a67f2b98-d040-45c1-bac6-af65c79e0726",
   "metadata": {},
   "outputs": [
    {
     "name": "stderr",
     "output_type": "stream",
     "text": [
      "INFO list_layers →\n",
      "[\n",
      "  {\n",
      "    \"index\": 0,\n",
      "    \"name\": \"SNAP_IgM_BCR_Cell_1_ch0\",\n",
      "    \"type\": \"Image\",\n",
      "    \"visible\": true\n",
      "  }\n",
      "]\n"
     ]
    }
   ],
   "source": [
    "# 3) query viewer state (needs list_layers helper in NapariManager)\n",
    "ok, res = mgr.list_layers()\n",
    "if not ok:\n",
    "    raise RuntimeError(f\"list_layers failed: {res}\")\n",
    "\n",
    "logging.info(\"list_layers →\\n%s\", json.dumps(res, indent=2))"
   ]
  },
  {
   "cell_type": "code",
   "execution_count": 27,
   "id": "62f6b26a-b58f-4e91-b664-185930b79384",
   "metadata": {},
   "outputs": [],
   "source": [
    "ok, res = mgr.set_colormap(\"SNAP_IgM_BCR_Cell_1_ch0\", \"green\")"
   ]
  },
  {
   "cell_type": "code",
   "execution_count": 28,
   "id": "e6d33265-b296-43b9-aa31-9aa076fb8f8c",
   "metadata": {},
   "outputs": [],
   "source": [
    "ok, res = mgr.set_opacity(\"SNAP_IgM_BCR_Cell_1_ch0\", 0.5) "
   ]
  },
  {
   "cell_type": "code",
   "execution_count": 29,
   "id": "54485d85-5c64-49b8-a4a5-656a1ee23a68",
   "metadata": {},
   "outputs": [],
   "source": [
    "ok, res = mgr.set_blending(\"SNAP_IgM_BCR_Cell_1_ch0\", \"additive\")"
   ]
  },
  {
   "cell_type": "code",
   "execution_count": 30,
   "id": "4eddba25-c28b-4cb5-919e-2193a76aab37",
   "metadata": {},
   "outputs": [],
   "source": [
    "ok, res = mgr.set_contrast_limits(\"SNAP_IgM_BCR_Cell_1_ch0\", 1, 5)"
   ]
  },
  {
   "cell_type": "code",
   "execution_count": 31,
   "id": "b9ebf074-60cb-47ff-8aa1-42982d4884a7",
   "metadata": {},
   "outputs": [],
   "source": [
    "ok, res = mgr.auto_contrast(\"SNAP_IgM_BCR_Cell_1_ch0\")"
   ]
  },
  {
   "cell_type": "code",
   "execution_count": 33,
   "id": "2b7ad2ec-27c1-4105-9eff-3e0c9f4d3a13",
   "metadata": {},
   "outputs": [],
   "source": [
    "ok, res = mgr.set_gamma(\"SNAP_IgM_BCR_Cell_1_ch0\", 0.7)\n"
   ]
  },
  {
   "cell_type": "code",
   "execution_count": 37,
   "id": "2b2acee6-ed37-43c8-954e-0078658a1eeb",
   "metadata": {},
   "outputs": [
    {
     "name": "stdout",
     "output_type": "stream",
     "text": [
      "Layer 'SNAP_IgM_BCR_Cell_1_ch0' does not have an interpolation attribute.\n"
     ]
    }
   ],
   "source": [
    "ok, res = mgr.set_interpolation(\"SNAP_IgM_BCR_Cell_1_ch0\", \"cubic\")\n",
    "print(res)"
   ]
  },
  {
   "cell_type": "code",
   "execution_count": 7,
   "id": "98a05749-aa91-44c2-99b8-4e9a8492e5c2",
   "metadata": {},
   "outputs": [],
   "source": [
    "ok, res = mgr.set_timestep(20)"
   ]
  },
  {
   "cell_type": "code",
   "execution_count": 12,
   "id": "02337b3f-783e-4e12-a9ac-3cdc23c00d40",
   "metadata": {},
   "outputs": [
    {
     "ename": "AttributeError",
     "evalue": "'NapariManager' object has no attribute 'get_dims_info'",
     "output_type": "error",
     "traceback": [
      "\u001b[1;31m---------------------------------------------------------------------------\u001b[0m",
      "\u001b[1;31mAttributeError\u001b[0m                            Traceback (most recent call last)",
      "Cell \u001b[1;32mIn[12], line 1\u001b[0m\n\u001b[1;32m----> 1\u001b[0m ok, res \u001b[38;5;241m=\u001b[39m mgr\u001b[38;5;241m.\u001b[39mget_dims_info()\n",
      "\u001b[1;31mAttributeError\u001b[0m: 'NapariManager' object has no attribute 'get_dims_info'"
     ]
    }
   ],
   "source": [
    "ok, res = mgr.get_dims_info()"
   ]
  },
  {
   "cell_type": "code",
   "execution_count": null,
   "id": "f9bfaab4-60d4-4f7d-a352-fe4e251c5186",
   "metadata": {},
   "outputs": [],
   "source": []
  }
 ],
 "metadata": {
  "kernelspec": {
   "display_name": "Python (mcp)",
   "language": "python",
   "name": "mcp"
  },
  "language_info": {
   "codemirror_mode": {
    "name": "ipython",
    "version": 3
   },
   "file_extension": ".py",
   "mimetype": "text/x-python",
   "name": "python",
   "nbconvert_exporter": "python",
   "pygments_lexer": "ipython3",
   "version": "3.12.9"
  }
 },
 "nbformat": 4,
 "nbformat_minor": 5
}
