{
 "cells": [
  {
   "cell_type": "code",
   "execution_count": 1,
   "id": "b55d9792-5acc-4700-a5a1-a30b01dfe0cd",
   "metadata": {},
   "outputs": [],
   "source": [
    "from __future__ import annotations\n",
    "\n",
    "import json\n",
    "import logging\n",
    "import sys\n",
    "import time\n",
    "from pathlib import Path\n",
    "\n",
    "from napari_manager import NapariManager\n",
    "\n",
    "# verbose console output\n",
    "logging.basicConfig(level=logging.INFO, format=\"%(levelname)s %(message)s\")"
   ]
  },
  {
   "cell_type": "code",
   "execution_count": 2,
   "id": "580b35f2-c366-49c6-9c04-c22b3d46b327",
   "metadata": {},
   "outputs": [],
   "source": [
    "\"\"\"Connect to the socket server and load *dataset*.\"\"\"\n",
    "mgr = NapariManager()                       # host/port from __init__\n",
    "dataset = Path(r\"D:\\Data\\Tooth\\tooth_103x94x161_uint8.tif\").expanduser().resolve()\n"
   ]
  },
  {
   "cell_type": "code",
   "execution_count": 3,
   "id": "4fd5ea1f-cd72-4118-8935-f985162e8398",
   "metadata": {},
   "outputs": [
    {
     "name": "stderr",
     "output_type": "stream",
     "text": [
      "INFO open_file → None\n"
     ]
    }
   ],
   "source": [
    "# 1) load data\n",
    "ok, res = mgr.open_file(dataset)            # open_file helper uses\n",
    "if not ok:                                  # send_command internally\n",
    "    raise RuntimeError(f\"open_file failed: {res}\")\n",
    "logging.info(\"open_file → %s\", res)         # 'Command executed successfully'"
   ]
  },
  {
   "cell_type": "code",
   "execution_count": 4,
   "id": "a67f2b98-d040-45c1-bac6-af65c79e0726",
   "metadata": {},
   "outputs": [
    {
     "name": "stderr",
     "output_type": "stream",
     "text": [
      "INFO list_layers →\n",
      "[\n",
      "  {\n",
      "    \"index\": 0,\n",
      "    \"name\": \"tooth_103x94x161_uint8\",\n",
      "    \"type\": \"Image\",\n",
      "    \"visible\": true\n",
      "  }\n",
      "]\n"
     ]
    }
   ],
   "source": [
    "# 3) query viewer state (needs list_layers helper in NapariManager)\n",
    "ok, res = mgr.list_layers()\n",
    "if not ok:\n",
    "    raise RuntimeError(f\"list_layers failed: {res}\")\n",
    "\n",
    "logging.info(\"list_layers →\\n%s\", json.dumps(res, indent=2))"
   ]
  },
  {
   "cell_type": "code",
   "execution_count": 5,
   "id": "62f6b26a-b58f-4e91-b664-185930b79384",
   "metadata": {},
   "outputs": [],
   "source": [
    "ok, res = mgr.set_colormap(\"tooth_103x94x161_uint8\", \"green\")"
   ]
  },
  {
   "cell_type": "code",
   "execution_count": null,
   "id": "e6d33265-b296-43b9-aa31-9aa076fb8f8c",
   "metadata": {},
   "outputs": [],
   "source": []
  }
 ],
 "metadata": {
  "kernelspec": {
   "display_name": "Python (mcp)",
   "language": "python",
   "name": "mcp"
  },
  "language_info": {
   "codemirror_mode": {
    "name": "ipython",
    "version": 3
   },
   "file_extension": ".py",
   "mimetype": "text/x-python",
   "name": "python",
   "nbconvert_exporter": "python",
   "pygments_lexer": "ipython3",
   "version": "3.12.9"
  }
 },
 "nbformat": 4,
 "nbformat_minor": 5
}
