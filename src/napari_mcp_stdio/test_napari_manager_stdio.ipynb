{
 "cells": [
  {
   "cell_type": "code",
   "execution_count": 1,
   "id": "b55d9792-5acc-4700-a5a1-a30b01dfe0cd",
   "metadata": {},
   "outputs": [],
   "source": [
    "from napari_manager import *"
   ]
  },
  {
   "cell_type": "code",
   "execution_count": 2,
   "id": "580b35f2-c366-49c6-9c04-c22b3d46b327",
   "metadata": {},
   "outputs": [],
   "source": [
    "napari_manager = NapariManager()"
   ]
  },
  {
   "cell_type": "code",
   "execution_count": 3,
   "id": "4fd5ea1f-cd72-4118-8935-f985162e8398",
   "metadata": {},
   "outputs": [
    {
     "name": "stderr",
     "output_type": "stream",
     "text": [
      "napari.manifest -> 'napari-socket' could not be imported: Could not find file 'napari.yaml' in module 'napari_socket'\n"
     ]
    }
   ],
   "source": [
    "success, message = napari_manager.connect()"
   ]
  },
  {
   "cell_type": "code",
   "execution_count": 4,
   "id": "a67f2b98-d040-45c1-bac6-af65c79e0726",
   "metadata": {},
   "outputs": [
    {
     "data": {
      "text/plain": [
       "(True,\n",
       " 'Successfully loaded image from D:\\\\Data\\\\Tooth\\\\tooth_103x94x161_uint8.tif',\n",
       " <Image layer 'tooth_103x94x161_uint8.tif' at 0x16eca70e270>,\n",
       " 'tooth_103x94x161_uint8.tif')"
      ]
     },
     "execution_count": 4,
     "metadata": {},
     "output_type": "execute_result"
    }
   ],
   "source": [
    "napari_manager.load_data(r\"D:\\Data\\Tooth\\tooth_103x94x161_uint8.tif\")"
   ]
  },
  {
   "cell_type": "code",
   "execution_count": 5,
   "id": "cf6d833d-6921-49dc-a6a3-138e0cbdbdf1",
   "metadata": {},
   "outputs": [
    {
     "data": {
      "text/plain": [
       "(True,\n",
       " 'Screenshot captured',\n",
       " 'C:\\\\Users\\\\miao1\\\\AppData\\\\Local\\\\Temp\\\\napari_screenshots\\\\napari_screenshot_1.png')"
      ]
     },
     "execution_count": 5,
     "metadata": {},
     "output_type": "execute_result"
    }
   ],
   "source": [
    "napari_manager.get_screenshot()"
   ]
  },
  {
   "cell_type": "code",
   "execution_count": null,
   "id": "e4c6c1b8-9892-434d-95d2-66c9ad6f05c3",
   "metadata": {},
   "outputs": [],
   "source": []
  }
 ],
 "metadata": {
  "kernelspec": {
   "display_name": "Python (mcp)",
   "language": "python",
   "name": "mcp"
  },
  "language_info": {
   "codemirror_mode": {
    "name": "ipython",
    "version": 3
   },
   "file_extension": ".py",
   "mimetype": "text/x-python",
   "name": "python",
   "nbconvert_exporter": "python",
   "pygments_lexer": "ipython3",
   "version": "3.12.9"
  }
 },
 "nbformat": 4,
 "nbformat_minor": 5
}
