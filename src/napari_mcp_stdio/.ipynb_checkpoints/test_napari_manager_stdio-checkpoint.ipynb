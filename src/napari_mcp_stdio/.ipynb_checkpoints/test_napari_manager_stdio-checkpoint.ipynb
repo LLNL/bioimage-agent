{
 "cells": [
  {
   "cell_type": "code",
   "execution_count": 1,
   "id": "b55d9792-5acc-4700-a5a1-a30b01dfe0cd",
   "metadata": {},
   "outputs": [],
   "source": [
    "from napari_manager import *"
   ]
  },
  {
   "cell_type": "code",
   "execution_count": 2,
   "id": "580b35f2-c366-49c6-9c04-c22b3d46b327",
   "metadata": {},
   "outputs": [],
   "source": [
    "napari_manager = NapariManager()"
   ]
  },
  {
   "cell_type": "code",
   "execution_count": 3,
   "id": "4fd5ea1f-cd72-4118-8935-f985162e8398",
   "metadata": {},
   "outputs": [
    {
     "name": "stderr",
     "output_type": "stream",
     "text": [
      "napari.manifest -> 'napari-hello-world' could not be imported: Cannot find module 'napari_hello_world' declared in entrypoint: 'napari_hello_world:napari.yaml'\n"
     ]
    }
   ],
   "source": [
    "success, message = napari_manager.connect()"
   ]
  },
  {
   "cell_type": "code",
   "execution_count": 6,
   "id": "a67f2b98-d040-45c1-bac6-af65c79e0726",
   "metadata": {},
   "outputs": [
    {
     "data": {
      "text/plain": [
       "{'success': True,\n",
       " 'layer_name': 'tooth_103x94x161_uint8.tif',\n",
       " 'shape': (161, 94, 103),\n",
       " 'dtype': 'uint8',\n",
       " 'n_dimensions': 3}"
      ]
     },
     "execution_count": 6,
     "metadata": {},
     "output_type": "execute_result"
    }
   ],
   "source": [
    "napari_manager.load_data(r\"D:\\Data\\Tooth\\tooth_103x94x161_uint8.tif\")"
   ]
  },
  {
   "cell_type": "code",
   "execution_count": null,
   "id": "cf6d833d-6921-49dc-a6a3-138e0cbdbdf1",
   "metadata": {},
   "outputs": [],
   "source": []
  }
 ],
 "metadata": {
  "kernelspec": {
   "display_name": "Python (mcp)",
   "language": "python",
   "name": "mcp"
  },
  "language_info": {
   "codemirror_mode": {
    "name": "ipython",
    "version": 3
   },
   "file_extension": ".py",
   "mimetype": "text/x-python",
   "name": "python",
   "nbconvert_exporter": "python",
   "pygments_lexer": "ipython3",
   "version": "3.12.9"
  }
 },
 "nbformat": 4,
 "nbformat_minor": 5
}
