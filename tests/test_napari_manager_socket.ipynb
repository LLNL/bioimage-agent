{
 "cells": [
  {
   "cell_type": "markdown",
   "id": "ad5439bb-c6b6-497b-aca8-b80fb92ab316",
   "metadata": {},
   "source": [
    "from __future__ import annotations\n",
    "\n",
    "import json\n",
    "import logging\n",
    "import sys\n",
    "import time\n",
    "from pathlib import Path\n",
    "sys.path.append(\"../src/napari_mcp\")\n",
    "\n",
    "from napari_manager import NapariManager\n",
    "\n",
    "# verbose console output\n",
    "logging.basicConfig(level=logging.INFO, format=\"%(levelname)s %(message)s\")"
   ]
  },
  {
   "cell_type": "markdown",
   "id": "2fda6c32-3ddb-4303-9009-cc9f82580378",
   "metadata": {},
   "source": [
    "# create napari manager"
   ]
  },
  {
   "cell_type": "code",
   "execution_count": 7,
   "id": "580b35f2-c366-49c6-9c04-c22b3d46b327",
   "metadata": {},
   "outputs": [],
   "source": [
    "\"\"\"Connect to the socket server and load *dataset*.\"\"\"\n",
    "mgr = NapariManager()                       # host/port from __init__\n",
    "dataset = Path(r\"C:\\Users\\miao1\\OneDrive - LLNL\\Sharing\\multi-channel\\SNAP_IgM_BCR_Cell_1\\tif\\SNAP_IgM_BCR_Cell_1_ch0.tif\").expanduser().resolve()\n"
   ]
  },
  {
   "cell_type": "markdown",
   "id": "0297b616-74b4-432f-ada0-3feddd4e9f76",
   "metadata": {},
   "source": [
    "## Open tif file"
   ]
  },
  {
   "cell_type": "code",
   "execution_count": 9,
   "id": "4fd5ea1f-cd72-4118-8935-f985162e8398",
   "metadata": {},
   "outputs": [
    {
     "name": "stderr",
     "output_type": "stream",
     "text": [
      "INFO open_file → None\n"
     ]
    }
   ],
   "source": [
    "# 1) load data\n",
    "ok, res = mgr.open_file(dataset)            # open_file helper uses\n",
    "if not ok:                                  # send_command internally\n",
    "    raise RuntimeError(f\"open_file failed: {res}\")\n",
    "logging.info(\"open_file → %s\", res)         # 'Command executed successfully'"
   ]
  },
  {
   "cell_type": "markdown",
   "id": "8aa3e328-2a39-4b13-a396-fc2265edf6e7",
   "metadata": {},
   "source": [
    "# open nzp file "
   ]
  },
  {
   "cell_type": "code",
   "execution_count": 13,
   "id": "cda0a365-45f7-4046-aafb-0c69256bbd99",
   "metadata": {},
   "outputs": [
    {
     "name": "stderr",
     "output_type": "stream",
     "text": [
      "INFO open_npz → None\n"
     ]
    }
   ],
   "source": [
    "ok, res = mgr.open_file(r\"D:\\Data\\A1_Lattice\\npz\\strut-0-rotated.npz\")  \n",
    "if not ok:                                  # send_command internally\n",
    "    raise RuntimeError(f\"open_file failed: {res}\")\n",
    "logging.info(\"open_file → %s\", res)         # 'Command executed successfully'"
   ]
  },
  {
   "cell_type": "markdown",
   "id": "a33a968f-9dc1-47e1-95f1-7fce9a1f321d",
   "metadata": {},
   "source": [
    "## list layers"
   ]
  },
  {
   "cell_type": "code",
   "execution_count": 11,
   "id": "a67f2b98-d040-45c1-bac6-af65c79e0726",
   "metadata": {},
   "outputs": [
    {
     "name": "stderr",
     "output_type": "stream",
     "text": [
      "INFO list_layers →\n",
      "[\n",
      "  {\n",
      "    \"index\": 0,\n",
      "    \"name\": \"SNAP_IgM_BCR_Cell_1_ch0\",\n",
      "    \"type\": \"Image\",\n",
      "    \"visible\": true\n",
      "  }\n",
      "]\n"
     ]
    }
   ],
   "source": [
    "# 3) query viewer state (needs list_layers helper in NapariManager)\n",
    "ok, res = mgr.list_layers()\n",
    "if not ok:\n",
    "    raise RuntimeError(f\"list_layers failed: {res}\")\n",
    "\n",
    "logging.info(\"list_layers →\\n%s\", json.dumps(res, indent=2))"
   ]
  },
  {
   "cell_type": "markdown",
   "id": "420fce66-366c-4a76-9aee-405d21c6bcc4",
   "metadata": {},
   "source": [
    "## remove layer"
   ]
  },
  {
   "cell_type": "code",
   "execution_count": 14,
   "id": "867e4e97-a51c-49ab-a7af-37830cc2a3ff",
   "metadata": {},
   "outputs": [
    {
     "name": "stderr",
     "output_type": "stream",
     "text": [
      "INFO remove_layer →\n",
      "null\n"
     ]
    }
   ],
   "source": [
    "ok, res = mgr.remove_layer(\"strut-0-rotated\")\n",
    "if not ok:\n",
    "    raise RuntimeError(f\"remove_layer failed: {res}\")\n",
    "\n",
    "logging.info(\"remove_layer →\\n%s\", json.dumps(res, indent=2))"
   ]
  },
  {
   "cell_type": "markdown",
   "id": "445d8875-ad7e-4a48-9a3a-a1aaceb4cd10",
   "metadata": {},
   "source": [
    "## visualization functions"
   ]
  },
  {
   "cell_type": "code",
   "execution_count": 27,
   "id": "62f6b26a-b58f-4e91-b664-185930b79384",
   "metadata": {},
   "outputs": [],
   "source": [
    "ok, res = mgr.set_colormap(\"SNAP_IgM_BCR_Cell_1_ch0\", \"green\")"
   ]
  },
  {
   "cell_type": "code",
   "execution_count": 28,
   "id": "e6d33265-b296-43b9-aa31-9aa076fb8f8c",
   "metadata": {},
   "outputs": [],
   "source": [
    "ok, res = mgr.set_opacity(\"SNAP_IgM_BCR_Cell_1_ch0\", 0.5) "
   ]
  },
  {
   "cell_type": "code",
   "execution_count": 29,
   "id": "54485d85-5c64-49b8-a4a5-656a1ee23a68",
   "metadata": {},
   "outputs": [],
   "source": [
    "ok, res = mgr.set_blending(\"SNAP_IgM_BCR_Cell_1_ch0\", \"additive\")"
   ]
  },
  {
   "cell_type": "code",
   "execution_count": 30,
   "id": "4eddba25-c28b-4cb5-919e-2193a76aab37",
   "metadata": {},
   "outputs": [],
   "source": [
    "ok, res = mgr.set_contrast_limits(\"SNAP_IgM_BCR_Cell_1_ch0\", 1, 5)"
   ]
  },
  {
   "cell_type": "code",
   "execution_count": 31,
   "id": "b9ebf074-60cb-47ff-8aa1-42982d4884a7",
   "metadata": {},
   "outputs": [],
   "source": [
    "ok, res = mgr.auto_contrast(\"SNAP_IgM_BCR_Cell_1_ch0\")"
   ]
  },
  {
   "cell_type": "code",
   "execution_count": 33,
   "id": "2b7ad2ec-27c1-4105-9eff-3e0c9f4d3a13",
   "metadata": {},
   "outputs": [],
   "source": [
    "ok, res = mgr.set_gamma(\"SNAP_IgM_BCR_Cell_1_ch0\", 0.7)\n"
   ]
  },
  {
   "cell_type": "code",
   "execution_count": 37,
   "id": "2b2acee6-ed37-43c8-954e-0078658a1eeb",
   "metadata": {},
   "outputs": [
    {
     "name": "stdout",
     "output_type": "stream",
     "text": [
      "Layer 'SNAP_IgM_BCR_Cell_1_ch0' does not have an interpolation attribute.\n"
     ]
    }
   ],
   "source": [
    "ok, res = mgr.set_interpolation(\"SNAP_IgM_BCR_Cell_1_ch0\", \"cubic\")\n",
    "print(res)"
   ]
  },
  {
   "cell_type": "code",
   "execution_count": 7,
   "id": "98a05749-aa91-44c2-99b8-4e9a8492e5c2",
   "metadata": {},
   "outputs": [],
   "source": [
    "ok, res = mgr.set_timestep(20)"
   ]
  },
  {
   "cell_type": "code",
   "execution_count": 5,
   "id": "02337b3f-783e-4e12-a9ac-3cdc23c00d40",
   "metadata": {},
   "outputs": [
    {
     "name": "stdout",
     "output_type": "stream",
     "text": [
      "{'ndim': 4, 'nsteps': [35, 100, 320, 525], 'current_step': [17, 49, 159, 262], 'axis_labels': ['0', '1', '2', '3']}\n"
     ]
    }
   ],
   "source": [
    "ok, res = mgr.get_dims_info()\n",
    "print(res)"
   ]
  },
  {
   "cell_type": "code",
   "execution_count": 3,
   "id": "f9bfaab4-60d4-4f7d-a352-fe4e251c5186",
   "metadata": {},
   "outputs": [
    {
     "name": "stdout",
     "output_type": "stream",
     "text": [
      "True C:\\Users\\miao1\\AppData\\Local\\Temp\\napari_scr_rk_5qkmo.png\n"
     ]
    }
   ],
   "source": [
    "ok, res = mgr.screenshot()\n",
    "print(ok, res)"
   ]
  },
  {
   "cell_type": "markdown",
   "id": "89ec4e41-71ed-498e-a050-cad05283d0f2",
   "metadata": {},
   "source": [
    "# control camera"
   ]
  },
  {
   "cell_type": "code",
   "execution_count": 7,
   "id": "91de14fd-77e8-4867-8711-0f311ad3c15f",
   "metadata": {},
   "outputs": [
    {
     "name": "stdout",
     "output_type": "stream",
     "text": [
      "Set camera: True {'center': [0.0, 100.0, 100.0], 'zoom': 3.0, 'angles': [12.943877086966767, 15.662759397644379, 93.3109535469802]}\n"
     ]
    }
   ],
   "source": [
    "# Set the camera (example values)\n",
    "center = (100, 100)      # 2D example; for 3D, use (x, y, z)\n",
    "zoom = 3.0\n",
    "angle = 45               # For 2D; for 3D, use a tuple like (30, 45, 60)\n",
    "\n",
    "ok, result = mgr.set_camera(center=center, zoom=zoom, angle=angle)\n",
    "print(\"Set camera:\", ok, result)"
   ]
  },
  {
   "cell_type": "code",
   "execution_count": null,
   "id": "8f26faa6-6f46-44f1-8cfb-7b789c23ee96",
   "metadata": {},
   "outputs": [],
   "source": []
  }
 ],
 "metadata": {
  "kernelspec": {
   "display_name": "Python (mcp)",
   "language": "python",
   "name": "mcp"
  },
  "language_info": {
   "codemirror_mode": {
    "name": "ipython",
    "version": 3
   },
   "file_extension": ".py",
   "mimetype": "text/x-python",
   "name": "python",
   "nbconvert_exporter": "python",
   "pygments_lexer": "ipython3",
   "version": "3.12.9"
  }
 },
 "nbformat": 4,
 "nbformat_minor": 5
}
